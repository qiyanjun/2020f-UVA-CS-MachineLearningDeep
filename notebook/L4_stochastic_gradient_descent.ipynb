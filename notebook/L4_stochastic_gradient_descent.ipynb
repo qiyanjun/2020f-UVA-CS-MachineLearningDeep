{
  "nbformat": 4,
  "nbformat_minor": 0,
  "metadata": {
    "kernelspec": {
      "display_name": "Python 3",
      "language": "python",
      "name": "python3"
    },
    "language_info": {
      "codemirror_mode": {
        "name": "ipython",
        "version": 3
      },
      "file_extension": ".py",
      "mimetype": "text/x-python",
      "name": "python",
      "nbconvert_exporter": "python",
      "pygments_lexer": "ipython3",
      "version": "3.6.8"
    },
    "colab": {
      "name": "L4_stochastic_gradient_descent.ipynb",
      "provenance": [],
      "collapsed_sections": []
    }
  },
  "cells": [
    {
      "cell_type": "markdown",
      "metadata": {
        "id": "zpTFEOA4zuO-",
        "colab_type": "text"
      },
      "source": [
        "### Gradient Descent\n",
        "\n",
        "Revised from: \n",
        " \n",
        "\n",
        "*   http://cs229.stanford.edu/\n",
        "*   https://github.com/dtnewman/stochastic_gradient_descent\n",
        "\n",
        "\n",
        "\n"
      ]
    },
    {
      "cell_type": "code",
      "metadata": {
        "id": "3lBgsboizuO6",
        "colab_type": "code",
        "colab": {}
      },
      "source": [
        "%matplotlib inline\n",
        "import numpy as np\n",
        "import scipy as sp\n",
        "import matplotlib.pyplot as plt\n",
        "import random\n",
        "from scipy import stats\n",
        "from scipy.optimize import fmin"
      ],
      "execution_count": null,
      "outputs": []
    },
    {
      "cell_type": "markdown",
      "metadata": {
        "id": "_rnkbSp3zuO_",
        "colab_type": "text"
      },
      "source": [
        "As a simple example, let's find a local minimum for the function $f(x) = x^3-2x^2+2$"
      ]
    },
    {
      "cell_type": "code",
      "metadata": {
        "id": "3uhl1muLzuPA",
        "colab_type": "code",
        "colab": {}
      },
      "source": [
        "f = lambda x: x**3-2*x**2+2"
      ],
      "execution_count": null,
      "outputs": []
    },
    {
      "cell_type": "code",
      "metadata": {
        "id": "ti0xngiozuPD",
        "colab_type": "code",
        "colab": {
          "base_uri": "https://localhost:8080/",
          "height": 269
        },
        "outputId": "8c06e3db-f6d9-4b27-8beb-86857084a155"
      },
      "source": [
        "x = np.linspace(-1,2.5,1000)\n",
        "plt.plot(x,f(x))\n",
        "plt.xlim([-1,2.5])\n",
        "plt.ylim([0,3])\n",
        "plt.show()"
      ],
      "execution_count": null,
      "outputs": [
        {
          "output_type": "display_data",
          "data": {
            "image/png": "[encoded data removed]",
            "text/plain": [
              "<Figure size 432x288 with 1 Axes>"
            ]
          },
          "metadata": {
            "tags": [],
            "needs_background": "light"
          }
        }
      ]
    },
    {
      "cell_type": "markdown",
      "metadata": {
        "id": "oNy6ouvSzuPG",
        "colab_type": "text"
      },
      "source": [
        "We can see from plot above that our local minimum is gonna be near around 1.4 or 1.5 (on the x-axis), but let's pretend that we don't know that, so we set our starting point (arbitrarily, in this case) at $x_0 = 2$"
      ]
    },
    {
      "cell_type": "code",
      "metadata": {
        "id": "Q4PelYq-zuPH",
        "colab_type": "code",
        "colab": {
          "base_uri": "https://localhost:8080/",
          "height": 50
        },
        "outputId": "67ed7b7e-f712-45a4-ed2d-36f7355c97ad"
      },
      "source": [
        "x_old = 0\n",
        "x_new = 2 # The algorithm starts at x=2\n",
        "n_k = 0.1 # step size\n",
        "precision = 0.0001\n",
        "\n",
        "x_list, y_list = [x_new], [f(x_new)]\n",
        "\n",
        "# returns the value of the derivative of our function\n",
        "def f_prime(x):\n",
        "    return 3*x**2-4*x\n",
        " \n",
        "while abs(x_new - x_old) > precision:\n",
        "    x_old = x_new\n",
        "    s_k = -f_prime(x_old)\n",
        "    x_new = x_old + n_k * s_k\n",
        "    x_list.append(x_new)\n",
        "    y_list.append(f(x_new))\n",
        "print(\"Local minimum occurs at:\", x_new)\n",
        "print(\"Number of steps:\", len(x_list))"
      ],
      "execution_count": null,
      "outputs": [
        {
          "output_type": "stream",
          "text": [
            "Local minimum occurs at: 1.3334253508453249\n",
            "Number of steps: 17\n"
          ],
          "name": "stdout"
        }
      ]
    },
    {
      "cell_type": "markdown",
      "metadata": {
        "id": "5_XudeVFzuPK",
        "colab_type": "text"
      },
      "source": [
        "The figures below show the route that was taken to find the local minimum."
      ]
    },
    {
      "cell_type": "code",
      "metadata": {
        "id": "J__Wkr4QzuPL",
        "colab_type": "code",
        "colab": {
          "base_uri": "https://localhost:8080/",
          "height": 227
        },
        "outputId": "e90fc403-fa32-4a2b-fac4-e360306d05e5"
      },
      "source": [
        "plt.figure(figsize=[10,3])\n",
        "plt.subplot(1,2,1)\n",
        "plt.scatter(x_list,y_list,c=\"r\")\n",
        "plt.plot(x_list,y_list,c=\"r\")\n",
        "plt.plot(x,f(x), c=\"b\")\n",
        "plt.xlim([-1,2.5])\n",
        "plt.ylim([0,3])\n",
        "plt.title(\"Gradient descent\")\n",
        "plt.subplot(1,2,2)\n",
        "plt.scatter(x_list,y_list,c=\"r\")\n",
        "plt.plot(x_list,y_list,c=\"r\")\n",
        "plt.plot(x,f(x), c=\"b\")\n",
        "plt.xlim([1.2,2.1])\n",
        "plt.ylim([0,3])\n",
        "plt.title(\"Gradient descent (zoomed in)\")\n",
        "plt.show()"
      ],
      "execution_count": null,
      "outputs": [
        {
          "output_type": "display_data",
          "data": {
            "image/png": "[encoded data removed]",
            "text/plain": [
              "<Figure size 720x216 with 2 Axes>"
            ]
          },
          "metadata": {
            "tags": [],
            "needs_background": "light"
          }
        }
      ]
    },
    {
      "cell_type": "markdown",
      "metadata": {
        "id": "O12uYt2IzuPO",
        "colab_type": "text"
      },
      "source": [
        "You'll notice that the step size (also called learning rate) in the implementation above is constant, unlike the algorithm in the pseudocode. Doing this makes it easier to implement the algorithm. However, it also presents some issues: If the step size is too small, then convergence will be very slow, but if we make it too large, then the method may fail to converge at all. \n",
        "\n",
        "A solution to this is to use adaptive step sizes as the algorithm below does (using scipy's fmin function to find optimal step sizes):"
      ]
    },
    {
      "cell_type": "code",
      "metadata": {
        "id": "ozOtyiL7zuPO",
        "colab_type": "code",
        "colab": {
          "base_uri": "https://localhost:8080/",
          "height": 50
        },
        "outputId": "d147c29e-4a52-4fad-bb26-5f1f27f0a4cc"
      },
      "source": [
        "# we setup this function to pass into the fmin algorithm\n",
        "def f2(n,x,s):\n",
        "    x = x + n*s\n",
        "    return f(x)\n",
        "\n",
        "x_old = 0\n",
        "x_new = 2 # The algorithm starts at x=2\n",
        "precision = 0.0001\n",
        "\n",
        "x_list, y_list = [x_new], [f(x_new)]\n",
        "\n",
        "# returns the value of the derivative of our function\n",
        "def f_prime(x):\n",
        "    return 3*x**2-4*x\n",
        "\n",
        "while abs(x_new - x_old) > precision:\n",
        "    x_old = x_new\n",
        "    s_k = -f_prime(x_old)\n",
        "    \n",
        "    # use scipy fmin function to find ideal step size.\n",
        "    n_k = fmin(f2,0.1,(x_old,s_k), full_output = False, disp = False)\n",
        "\n",
        "    x_new = x_old + n_k * s_k\n",
        "    x_list.append(x_new)\n",
        "    y_list.append(f(x_new))\n",
        "    \n",
        "print(\"Local minimum occurs at \", float(x_new))\n",
        "print(\"Number of steps:\", len(x_list))"
      ],
      "execution_count": null,
      "outputs": [
        {
          "output_type": "stream",
          "text": [
            "Local minimum occurs at  1.3333333284505209\n",
            "Number of steps: 4\n"
          ],
          "name": "stdout"
        }
      ]
    },
    {
      "cell_type": "markdown",
      "metadata": {
        "id": "xEu0sqHLzuPR",
        "colab_type": "text"
      },
      "source": [
        "With adaptive step sizes, the algorithm converges in just 4 iterations rather than 17. Of course, it takes time to compute the appropriate step size at each iteration. Here are some plots of the path taken below. You can see that it converges very quickly to a point near the local minimum, so it's hard to even discern the dots after the first two steps until we zoom in very close in the third frame below:"
      ]
    },
    {
      "cell_type": "code",
      "metadata": {
        "id": "G7ZagWF0zuPS",
        "colab_type": "code",
        "colab": {
          "base_uri": "https://localhost:8080/",
          "height": 240
        },
        "outputId": "b89dd512-e2ff-456c-8e8e-8827cc54db7c"
      },
      "source": [
        "plt.figure(figsize=[15,3])\n",
        "plt.subplot(1,3,1)\n",
        "plt.scatter(x_list,y_list,c=\"r\")\n",
        "plt.plot(x_list,y_list,c=\"r\")\n",
        "plt.plot(x,f(x), c=\"b\")\n",
        "plt.xlim([-1,2.5])\n",
        "plt.title(\"Gradient descent\")\n",
        "plt.subplot(1,3,2)\n",
        "plt.scatter(x_list,y_list,c=\"r\")\n",
        "plt.plot(x_list,y_list,c=\"r\")\n",
        "plt.plot(x,f(x), c=\"b\")\n",
        "plt.xlim([1.2,2.1])\n",
        "plt.ylim([0,3])\n",
        "plt.title(\"zoomed in\")\n",
        "plt.subplot(1,3,3)\n",
        "plt.scatter(x_list,y_list,c=\"r\")\n",
        "plt.plot(x_list,y_list,c=\"r\")\n",
        "plt.plot(x,f(x), c=\"b\")\n",
        "plt.xlim([1.3333,1.3335])\n",
        "plt.ylim([0,3])\n",
        "plt.title(\"zoomed in more\")\n",
        "plt.show()"
      ],
      "execution_count": null,
      "outputs": [
        {
          "output_type": "display_data",
          "data": {
            "image/png": "[encoded data removed]",
            "text/plain": [
              "<Figure size 1080x216 with 3 Axes>"
            ]
          },
          "metadata": {
            "tags": [],
            "needs_background": "light"
          }
        }
      ]
    },
    {
      "cell_type": "markdown",
      "metadata": {
        "id": "EBN0P9gTzuPV",
        "colab_type": "text"
      },
      "source": [
        "Another approach to update the step size is choosing a decrease constant $d$ that shrinks the step size over time:\n",
        "$\\eta(t+1) = \\eta(t) / (1+t \\times d)$."
      ]
    },
    {
      "cell_type": "code",
      "metadata": {
        "id": "8Cq8JrkyzuPW",
        "colab_type": "code",
        "colab": {
          "base_uri": "https://localhost:8080/",
          "height": 50
        },
        "outputId": "62d9c87a-01de-4e07-91d1-fb56eb9ea1f7"
      },
      "source": [
        "x_old = 0\n",
        "x_new = 2 # The algorithm starts at x=2\n",
        "n_k = 0.17 # step size\n",
        "precision = 0.0001\n",
        "t, d = 0, 1\n",
        "\n",
        "x_list, y_list = [x_new], [f(x_new)]\n",
        "\n",
        "# returns the value of the derivative of our function\n",
        "def f_prime(x):\n",
        "    return 3*x**2-4*x\n",
        " \n",
        "while abs(x_new - x_old) > precision:\n",
        "    x_old = x_new\n",
        "    s_k = -f_prime(x_old)\n",
        "    x_new = x_old + n_k * s_k\n",
        "    x_list.append(x_new)\n",
        "    y_list.append(f(x_new))\n",
        "    n_k = n_k / (1 + t * d)\n",
        "    t += 1\n",
        "\n",
        "print(\"Local minimum occurs at:\", x_new)\n",
        "print(\"Number of steps:\", len(x_list))"
      ],
      "execution_count": null,
      "outputs": [
        {
          "output_type": "stream",
          "text": [
            "Local minimum occurs at: 1.3308506740900838\n",
            "Number of steps: 6\n"
          ],
          "name": "stdout"
        }
      ]
    },
    {
      "cell_type": "markdown",
      "metadata": {
        "id": "iILDxoXP9bSD",
        "colab_type": "text"
      },
      "source": [
        "### Another examples ...\n"
      ]
    },
    {
      "cell_type": "code",
      "metadata": {
        "id": "RvLQjWgQzuPv",
        "colab_type": "code",
        "colab": {
          "base_uri": "https://localhost:8080/",
          "height": 265
        },
        "outputId": "735f81bd-992a-408c-c611-fb6666df74af"
      },
      "source": [
        "f = lambda x: x*2+17+np.random.randn(len(x))*10\n",
        "\n",
        "x = np.random.random(500000)*100\n",
        "y = f(x) \n",
        "m = len(y)\n",
        "plt.scatter(x,y,c=\"r\")\n",
        "plt.show() "
      ],
      "execution_count": null,
      "outputs": [
        {
          "output_type": "display_data",
          "data": {
            "image/png": "[encoded data removed]",
            "text/plain": [
              "<Figure size 432x288 with 1 Axes>"
            ]
          },
          "metadata": {
            "tags": [],
            "needs_background": "light"
          }
        }
      ]
    },
    {
      "cell_type": "markdown",
      "metadata": {
        "id": "8tb5uecKzuPy",
        "colab_type": "text"
      },
      "source": [
        "First, let's randomly shuffle around our dataset. Note that in this example, this step isn't strictly necessary since the data is already in a random order. However, that obviously may not always be the case:"
      ]
    },
    {
      "cell_type": "code",
      "metadata": {
        "id": "HPOK0xNezuPy",
        "colab_type": "code",
        "colab": {}
      },
      "source": [
        "from random import shuffle\n",
        "\n",
        "x_shuf = []\n",
        "y_shuf = []\n",
        "index_shuf = list(range(len(x)))\n",
        "shuffle(index_shuf)\n",
        "for i in index_shuf:\n",
        "    x_shuf.append(x[i])\n",
        "    y_shuf.append(y[i])"
      ],
      "execution_count": null,
      "outputs": []
    },
    {
      "cell_type": "markdown",
      "metadata": {
        "id": "cXGQf5fjzuP1",
        "colab_type": "text"
      },
      "source": [
        "Now we'll setup our h function and our cost function, which we will use to check how the value is improving."
      ]
    },
    {
      "cell_type": "code",
      "metadata": {
        "id": "bp4pXj16zuP1",
        "colab_type": "code",
        "colab": {}
      },
      "source": [
        "h = lambda theta_0,theta_1,x: theta_0 + theta_1*x\n",
        "cost = lambda theta_0,theta_1, x_i, y_i: 0.5*(h(theta_0,theta_1,x_i)-y_i)**2"
      ],
      "execution_count": null,
      "outputs": []
    },
    {
      "cell_type": "markdown",
      "metadata": {
        "id": "BgwFaquWzuP3",
        "colab_type": "text"
      },
      "source": [
        "Now we'll run our stochastic gradient descent algorithm. To see it's progress, we'll take a cost measurement at every step. Every 10,000 steps, we'll get an average cost from the last 10,000 steps and then append that to our cost_list variable. We will run through the entire list 10 times here:"
      ]
    },
    {
      "cell_type": "code",
      "metadata": {
        "id": "apXsXVs9zuP4",
        "colab_type": "code",
        "colab": {
          "base_uri": "https://localhost:8080/",
          "height": 67
        },
        "outputId": "fe2e8cec-9a1f-4a6e-8070-91edea9e36a6"
      },
      "source": [
        "theta_old = np.array([0.,0.])\n",
        "theta_new = np.array([1.,1.]) # The algorithm starts at [1,1]\n",
        "n_k = 0.000005 # step size\n",
        "\n",
        "iter_num = 0\n",
        "s_k = np.array([float(\"inf\"),float(\"inf\")])\n",
        "sum_cost = 0\n",
        "cost_list = []\n",
        "\n",
        "for j in range(10):\n",
        "    for i in range(m):\n",
        "        iter_num += 1\n",
        "        theta_old = theta_new\n",
        "        s_k[0] = (h(theta_old[0],theta_old[1],x[i])-y[i])\n",
        "        s_k[1] = (h(theta_old[0],theta_old[1],x[i])-y[i])*x[i]\n",
        "        s_k = (-1)*s_k\n",
        "        theta_new = theta_old + n_k * s_k\n",
        "        sum_cost += cost(theta_old[0],theta_old[1],x[i],y[i])\n",
        "        if (i+1) % 10000 == 0:\n",
        "            cost_list.append(sum_cost/10000.0)\n",
        "            sum_cost = 0   \n",
        "            \n",
        "print(\"Local minimum occurs where:\")\n",
        "print(\"theta_0 =\", theta_new[0])\n",
        "print(\"theta_1 =\", theta_new[1])"
      ],
      "execution_count": null,
      "outputs": [
        {
          "output_type": "stream",
          "text": [
            "Local minimum occurs where:\n",
            "theta_0 = 16.934477343975004\n",
            "theta_1 = 1.9973003632737036\n"
          ],
          "name": "stdout"
        }
      ]
    },
    {
      "cell_type": "markdown",
      "metadata": {
        "id": "R7OSe36rzuP9",
        "colab_type": "text"
      },
      "source": [
        "As you can see, our values for $\\theta_0$ and $\\theta_1$ are close to their true values of 17 and 2.\n",
        "\n",
        "Now, we plot our cost versus the number of iterations. As you can see, the cost goes down quickly at first, but starts to level off as we go through more iterations:"
      ]
    },
    {
      "cell_type": "code",
      "metadata": {
        "id": "wjc_02K3zuP-",
        "colab_type": "code",
        "colab": {
          "base_uri": "https://localhost:8080/",
          "height": 279
        },
        "outputId": "0ec42b8b-287a-46de-e1c0-3518d3107e5d"
      },
      "source": [
        "iterations = np.arange(len(cost_list))*10000\n",
        "plt.plot(iterations,cost_list)\n",
        "plt.xlabel(\"iterations\")\n",
        "plt.ylabel(\"avg cost\")\n",
        "plt.show()"
      ],
      "execution_count": null,
      "outputs": [
        {
          "output_type": "display_data",
          "data": {
            "image/png": "[encoded data removed]",
            "text/plain": [
              "<Figure size 432x288 with 1 Axes>"
            ]
          },
          "metadata": {
            "tags": [],
            "needs_background": "light"
          }
        }
      ]
    },
    {
      "cell_type": "code",
      "metadata": {
        "id": "uSNCyxoM_94U",
        "colab_type": "code",
        "colab": {
          "base_uri": "https://localhost:8080/",
          "height": 265
        },
        "outputId": "beece4d1-a101-4474-b0fa-003c1628e02e"
      },
      "source": [
        "f = lambda x: x*2+17+np.random.randn(len(x))*10\n",
        "\n",
        "x = np.random.random(500000)*100\n",
        "y = f(x) \n",
        "hy = theta_new[0] + theta_new[1]*x \n",
        "plt.plot(x,hy,c=\"b\", linewidth=3)\n",
        "plt.scatter(x,y,c=\"r\")\n",
        "plt.show() "
      ],
      "execution_count": null,
      "outputs": [
        {
          "output_type": "display_data",
          "data": {
            "image/png": "[encoded data removed]",
            "text/plain": [
              "<Figure size 432x288 with 1 Axes>"
            ]
          },
          "metadata": {
            "tags": [],
            "needs_background": "light"
          }
        }
      ]
    }
  ]
}